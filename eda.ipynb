{
 "cells": [
  {
   "cell_type": "code",
   "execution_count": null,
   "metadata": {},
   "outputs": [],
   "source": [
    "import pandas as pd\n",
    "import seaborn as sns\n",
    "import matplotlib.pyplot as plt\n",
    "\n",
    "df = pd.read_csv(\"C:\\\\Users\\ASUS\\Downloads\\Iris.csv\")\n",
    "\n",
    "df.head()\n"
   ]
  },
  {
   "cell_type": "code",
   "execution_count": null,
   "metadata": {},
   "outputs": [],
   "source": [
    "df.shape"
   ]
  },
  {
   "cell_type": "code",
   "execution_count": null,
   "metadata": {},
   "outputs": [],
   "source": [
    "df.info()"
   ]
  },
  {
   "cell_type": "code",
   "execution_count": null,
   "metadata": {},
   "outputs": [],
   "source": [
    "df.describe()"
   ]
  },
  {
   "cell_type": "code",
   "execution_count": null,
   "metadata": {},
   "outputs": [],
   "source": [
    "df.isnull().sum()"
   ]
  },
  {
   "cell_type": "code",
   "execution_count": null,
   "metadata": {},
   "outputs": [],
   "source": [
    "data = df.drop_duplicates(subset =\"Species\",)\n",
    "data"
   ]
  },
  {
   "cell_type": "code",
   "execution_count": null,
   "metadata": {},
   "outputs": [],
   "source": [
    "df.value_counts(\"Species\")"
   ]
  },
  {
   "cell_type": "markdown",
   "metadata": {},
   "source": [
    "Data Visualization"
   ]
  },
  {
   "cell_type": "code",
   "execution_count": null,
   "metadata": {},
   "outputs": [],
   "source": [
    "\n",
    "sns.countplot(x='Species', data=df, )\n",
    "plt.show()"
   ]
  },
  {
   "cell_type": "code",
   "execution_count": null,
   "metadata": {},
   "outputs": [],
   "source": [
    "sns.scatterplot(x='SepalLengthCm', y='SepalWidthCm',\n",
    "                hue='Species', data=df, )\n",
    "\n",
    "\n",
    "plt.legend(bbox_to_anchor=(1, 1), loc=2)\n",
    "\n",
    "plt.show()\n"
   ]
  },
  {
   "cell_type": "code",
   "execution_count": null,
   "metadata": {},
   "outputs": [],
   "source": [
    "sns.scatterplot(x='PetalLengthCm', y='PetalWidthCm',\n",
    "                hue='Species', data=df, )\n",
    "\n",
    "plt.legend(bbox_to_anchor=(1, 1), loc=2)\n",
    "\n",
    "plt.show()\n"
   ]
  },
  {
   "cell_type": "code",
   "execution_count": null,
   "metadata": {},
   "outputs": [],
   "source": [
    "\n",
    "sns.pairplot(df.drop(['Id'], axis = 1), \n",
    "             hue='Species', height=2)\n"
   ]
  },
  {
   "cell_type": "markdown",
   "metadata": {},
   "source": [
    "Histograms"
   ]
  },
  {
   "cell_type": "code",
   "execution_count": null,
   "metadata": {},
   "outputs": [],
   "source": [
    "fig, axes = plt.subplots(2, 2, figsize=(10,10))\n",
    "\n",
    "axes[0,0].set_title(\"Sepal Length\")\n",
    "axes[0,0].hist(df['SepalLengthCm'], bins=7)\n",
    "\n",
    "axes[0,1].set_title(\"Sepal Width\")\n",
    "axes[0,1].hist(df['SepalWidthCm'], bins=5);\n",
    "\n",
    "axes[1,0].set_title(\"Petal Length\")\n",
    "axes[1,0].hist(df['PetalLengthCm'], bins=6);\n",
    "\n",
    "axes[1,1].set_title(\"Petal Width\")\n",
    "axes[1,1].hist(df['PetalWidthCm'], bins=6);\n"
   ]
  },
  {
   "cell_type": "markdown",
   "metadata": {},
   "source": [
    "Histograms with Distplot Plot"
   ]
  },
  {
   "cell_type": "code",
   "execution_count": null,
   "metadata": {},
   "outputs": [],
   "source": [
    "plot = sns.FacetGrid(df, hue=\"Species\")\n",
    "plot.map(sns.distplot, \"SepalLengthCm\").add_legend()\n",
    "\n",
    "plot = sns.FacetGrid(df, hue=\"Species\")\n",
    "plot.map(sns.distplot, \"SepalWidthCm\").add_legend()\n",
    "\n",
    "plot = sns.FacetGrid(df, hue=\"Species\")\n",
    "plot.map(sns.distplot, \"PetalLengthCm\").add_legend()\n",
    "\n",
    "plot = sns.FacetGrid(df, hue=\"Species\")\n",
    "plot.map(sns.distplot, \"PetalWidthCm\").add_legend()\n",
    "\n",
    "plt.show()\n"
   ]
  },
  {
   "cell_type": "markdown",
   "metadata": {},
   "source": [
    "Handling Correlation"
   ]
  },
  {
   "cell_type": "code",
   "execution_count": null,
   "metadata": {},
   "outputs": [],
   "source": [
    "data.select_dtypes(include=['number']).corr(method='pearson')"
   ]
  },
  {
   "cell_type": "markdown",
   "metadata": {},
   "source": [
    "Heatmaps"
   ]
  },
  {
   "cell_type": "code",
   "execution_count": null,
   "metadata": {},
   "outputs": [],
   "source": [
    "sns.heatmap(df.select_dtypes(include=['number']).corr(method='pearson').drop( \n",
    "['Id'], axis=1).drop(['Id'], axis=0), \n",
    "            annot = True); \n",
    "\n",
    "plt.show()\n",
    "\n",
    "\n"
   ]
  },
  {
   "cell_type": "markdown",
   "metadata": {},
   "source": [
    "Box Plot"
   ]
  },
  {
   "cell_type": "code",
   "execution_count": null,
   "metadata": {},
   "outputs": [],
   "source": [
    "\n",
    "def graph(y):\n",
    "    sns.boxplot(x=\"Species\", y=y, data=df)\n",
    "\n",
    "plt.figure(figsize=(10,10))\n",
    "    \n",
    "plt.subplot(221)\n",
    "graph('SepalLengthCm')\n",
    "\n",
    "plt.subplot(222)\n",
    "graph('SepalWidthCm')\n",
    "\n",
    "plt.subplot(223)\n",
    "graph('PetalLengthCm')\n",
    "\n",
    "plt.subplot(224)\n",
    "graph('PetalWidthCm')\n",
    "\n",
    "plt.show()\n"
   ]
  },
  {
   "cell_type": "markdown",
   "metadata": {},
   "source": [
    "Handling Outliers"
   ]
  },
  {
   "cell_type": "code",
   "execution_count": null,
   "metadata": {},
   "outputs": [],
   "source": [
    "sns.boxplot(x='SepalWidthCm', data=df)\n"
   ]
  },
  {
   "cell_type": "markdown",
   "metadata": {},
   "source": [
    "Removing Outliers"
   ]
  },
  {
   "cell_type": "code",
   "execution_count": null,
   "metadata": {},
   "outputs": [],
   "source": [
    "\n",
    "import numpy as np\n",
    "\n",
    " \n",
    "df = pd.read_csv('Iris.csv') \n",
    "\n",
    "\n",
    "Q1 = np.percentile(df['SepalWidthCm'], 25, \n",
    "                interpolation = 'midpoint') \n",
    "\n",
    "Q3 = np.percentile(df['SepalWidthCm'], 75, \n",
    "                interpolation = 'midpoint') \n",
    "IQR = Q3 - Q1 \n",
    "\n",
    "print(\"Old Shape: \", df.shape) \n",
    "\n",
    " \n",
    "upper = np.where(df['SepalWidthCm'] >= (Q3+1.5*IQR)) \n",
    "\n",
    "\n",
    "lower = np.where(df['SepalWidthCm'] <= (Q1-1.5*IQR)) \n",
    "\n",
    "\n",
    "df.drop(upper[0], inplace = True) \n",
    "df.drop(lower[0], inplace = True) \n",
    "\n",
    "print(\"New Shape: \", df.shape) \n",
    "\n",
    "sns.boxplot(x='SepalWidthCm', data=df)\n",
    "\n",
    "\n"
   ]
  },
  {
   "cell_type": "code",
   "execution_count": null,
   "metadata": {},
   "outputs": [],
   "source": []
  }
 ],
 "metadata": {
  "kernelspec": {
   "display_name": "Python 3",
   "language": "python",
   "name": "python3"
  },
  "language_info": {
   "codemirror_mode": {
    "name": "ipython",
    "version": 3
   },
   "file_extension": ".py",
   "mimetype": "text/x-python",
   "name": "python",
   "nbconvert_exporter": "python",
   "pygments_lexer": "ipython3",
   "version": "3.12.2"
  }
 },
 "nbformat": 4,
 "nbformat_minor": 2
}
